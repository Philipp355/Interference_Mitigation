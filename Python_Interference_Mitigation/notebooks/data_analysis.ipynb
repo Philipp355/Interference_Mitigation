{
 "cells": [
  {
   "cell_type": "code",
   "execution_count": 1,
   "metadata": {},
   "outputs": [],
   "source": [
    "import numpy as np\n",
    "import matplotlib.pyplot as plt\n",
    "import sys\n",
    "import os\n",
    "import seaborn as sns"
   ]
  },
  {
   "cell_type": "code",
   "execution_count": null,
   "metadata": {},
   "outputs": [],
   "source": [
    "\n",
    "PROJECT_ROOT = r'c:\\Users\\WangCo\\Documents\\ProgramData\\Python\\radar_interference_suppression'\n",
    "\n",
    "if PROJECT_ROOT not in sys.path:\n",
    "    sys.path.append(PROJECT_ROOT)\n",
    "\n",
    "\n",
    "print(\"Current working directory:\", os.getcwd())\n",
    "print(\"Project root directory:\", PROJECT_ROOT)\n",
    "print(\"Python path:\", sys.path)\n",
    "\n",
    "\n",
    "os.chdir(PROJECT_ROOT)\n",
    "print(\"\\nNew working directory:\", os.getcwd())"
   ]
  },
  {
   "cell_type": "code",
   "execution_count": null,
   "metadata": {},
   "outputs": [],
   "source": [
    "\n",
    "\n",
    "def analyze_complex_radar_data(file_path):\n",
    "\n",
    "\n",
    "    data = np.load(file_path, allow_pickle=True)\n",
    "    \n",
    "\n",
    "    print(f\"data type: {type(data)}\")\n",
    "    print(f\"data shape: {data.shape}\")\n",
    "    print(f\"type of element: {data.dtype}\")\n",
    "    \n",
    "\n",
    "    if data.dtype.names is not None:\n",
    "\n",
    "        for field in data.dtype.names:\n",
    "            print(f\"\\nField: {field}\")\n",
    "            print(f\"Shape: {data[field].shape}\")\n",
    "            print(f\"Type: {data[field].dtype}\")\n",
    "    \n",
    "\n",
    "    if np.iscomplexobj(data):\n",
    "\n",
    "        print(f\"amplitude range: [{np.abs(data).min():.2e}, {np.abs(data).max():.2e}]\")\n",
    "        print(f\"phase range: [{np.angle(data).min():.2f}, {np.angle(data).max():.2f}] rad\")\n",
    "        \n",
    "\n",
    "        plt.figure(figsize=(15, 5))\n",
    "        \n",
    "\n",
    "        plt.subplot(131)\n",
    "        plt.hist(np.abs(data).flatten(), bins=50)\n",
    "        plt.title('amplitude distribution')\n",
    "        plt.xlabel('amplitude')\n",
    "        plt.ylabel('occurrence')\n",
    "        \n",
    "\n",
    "        plt.subplot(132)\n",
    "        plt.hist(np.angle(data).flatten(), bins=50)\n",
    "        plt.title('phase distribution')\n",
    "        plt.xlabel('phase (rad)')\n",
    "        plt.ylabel('occurrence')\n",
    "        \n",
    "\n",
    "        plt.subplot(133)\n",
    "        plt.imshow(np.abs(data[0]), aspect='auto')\n",
    "        plt.colorbar()\n",
    "        plt.title('Amplitude of first frame')\n",
    "        \n",
    "        plt.tight_layout()\n",
    "        plt.show()\n",
    "\n",
    "        plt.figure(figsize=(8, 8))\n",
    "        sample_size = 1000\n",
    "        sample_indices = np.random.choice(data.size, sample_size)\n",
    "        sampled_data = data.flatten()[sample_indices]\n",
    "        \n",
    "        plt.scatter(sampled_data.real, sampled_data.imag, \n",
    "                   alpha=0.5, s=1)\n",
    "        plt.title('complex data scatter plot')\n",
    "        plt.xlabel('real part')\n",
    "        plt.ylabel('imaginarry part')\n",
    "        plt.axis('equal')\n",
    "        plt.grid(True)\n",
    "        plt.show()\n",
    "\n"
   ]
  },
  {
   "cell_type": "code",
   "execution_count": null,
   "metadata": {},
   "outputs": [],
   "source": [
    "# Read arim_v2\n",
    "file_path = './datasets/arim2/arim-v2_train.npy'\n",
    "analyze_complex_radar_data(file_path)\n",
    "\n",
    "# If contain label\n",
    "try:\n",
    "    data = np.load(file_path, allow_pickle=True).item()  # If dictionary\n",
    "    if isinstance(data, dict):\n",
    "        print(\"\\n=== dataset structure ===\")\n",
    "        for key, value in data.items():\n",
    "            print(f\"\\nKey: {key}\")\n",
    "            print(f\"Type: {type(value)}\")\n",
    "            if isinstance(value, np.ndarray):\n",
    "                print(f\"Shape: {value.shape}\")\n",
    "                print(f\"dtype: {value.dtype}\")\n",
    "except:\n",
    "    print(\"\\nNot a dictionary\")"
   ]
  },
  {
   "cell_type": "code",
   "execution_count": null,
   "metadata": {},
   "outputs": [],
   "source": [
    "data_info = data['info_mat']\n",
    "print(f\"Type: {type(data_info)}\")\n",
    "print(f\"Shape: {data_info.shape}\")\n",
    "print(f\"dtype: {data_info.dtype}\")\n",
    "print(data_info.shape[0])\n",
    "print(data_info[0])\n",
    "# print(data_info[0])\n",
    "data_distance = data['distances']\n",
    "print(data_distance[2].shape)"
   ]
  },
  {
   "cell_type": "code",
   "execution_count": null,
   "metadata": {},
   "outputs": [],
   "source": [
    "arim = np.load(file_path, allow_pickle=True)"
   ]
  },
  {
   "cell_type": "code",
   "execution_count": null,
   "metadata": {},
   "outputs": [],
   "source": [
    "sb_raw = arim[()]['sb'] # Data with interference\n",
    "sb0_raw = arim[()]['sb0'] # Data without interference\n",
    "amplitudes = arim[()]['amplitudes'] # Amplitude information for targets\n",
    "distances = arim[()]['distances'] # Distances information for targets\n",
    "info_mat = arim[()]['info_mat']\n",
    "\n",
    "print(f\"sb0 shape: {sb0_raw.shape}\")\n",
    "print(f\"distances shape: {distances.shape}\")\n",
    "print(f\"info_mat shape: {info_mat.shape}\")\n",
    "print(sb0_raw[0])"
   ]
  },
  {
   "cell_type": "code",
   "execution_count": null,
   "metadata": {},
   "outputs": [],
   "source": []
  }
 ],
 "metadata": {
  "kernelspec": {
   "display_name": "Python 3",
   "language": "python",
   "name": "python3"
  },
  "language_info": {
   "codemirror_mode": {
    "name": "ipython",
    "version": 3
   },
   "file_extension": ".py",
   "mimetype": "text/x-python",
   "name": "python",
   "nbconvert_exporter": "python",
   "pygments_lexer": "ipython3",
   "version": "3.11.9"
  }
 },
 "nbformat": 4,
 "nbformat_minor": 2
}
