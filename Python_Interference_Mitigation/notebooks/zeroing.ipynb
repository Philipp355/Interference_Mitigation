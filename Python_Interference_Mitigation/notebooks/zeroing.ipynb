{
 "cells": [
  {
   "cell_type": "code",
   "execution_count": null,
   "metadata": {},
   "outputs": [],
   "source": [
    "importlib.reload(baseline_tec)\n",
    "\n",
    "\n",
    "freq_factor = 3.0  \n",
    "fs = 20e6  \n",
    "nperseg = 256  \n",
    "noverlap = 192  \n",
    "method = 'phase_corrected' \n",
    "\n",
    "\n",
    "radar_data = radar_cube.transpose(2, 1, 0) \n",
    "\n",
    "cleaned_data = baseline_tec.improved_apply_zeroing(\n",
    "    radar_data, \n",
    "    method=method,\n",
    "    freq_factor=freq_factor, \n",
    "    fs=fs,\n",
    "    nperseg=nperseg,  \n",
    "    noverlap=noverlap  \n",
    ")\n",
    "\n",
    "\n",
    "cleaned_data = cleaned_data.transpose(2, 1, 0)\n",
    "\n",
    "\n",
    "frame_idx = 0  \n",
    "\n",
    "visualization.plot_radar_result(clean_data, radar_cube, cleaned_data, frame_idx=frame_idx)"
   ]
  }
 ],
 "metadata": {
  "language_info": {
   "name": "python"
  }
 },
 "nbformat": 4,
 "nbformat_minor": 2
}
